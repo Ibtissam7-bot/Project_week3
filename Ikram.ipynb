{
 "cells": [
  {
   "cell_type": "code",
   "execution_count": 10,
   "id": "2937b676",
   "metadata": {},
   "outputs": [
    {
     "name": "stdout",
     "output_type": "stream",
     "text": [
      "✅ Prix estimé par Gradient Boosting : 0.27 MAD\n"
     ]
    }
   ],
   "source": [
    "import joblib\n",
    "import pandas as pd\n",
    "\n",
    "# Charger les modèles\n",
    "model0 = joblib.load('model.pkl')\n",
    "\n",
    "\n",
    "# Colonnes attendues\n",
    "expected_cols0 = list(model0.feature_names_in_)\n",
    "\n",
    "\n",
    "# Données d'entrée (à ajuster selon ton besoin)\n",
    "base_input = {\n",
    "    'nb_rooms': 10,\n",
    "    'surface_area':770,\n",
    "    'nbr_baths': 1,\n",
    "    'salon': 0,\n",
    "    'price':200000\n",
    "}\n",
    "input_data = pd.DataFrame([base_input])\n",
    "\n",
    "# Fonction pour adapter les données à chaque modèle\n",
    "def prepare_input(input_df, expected_cols):\n",
    "    df = input_df.copy()\n",
    "    # Ajouter les colonnes manquantes\n",
    "    for col in expected_cols:\n",
    "        if col not in df.columns:\n",
    "            df[col] = 0\n",
    "    # Supprimer les colonnes en trop\n",
    "    df = df[expected_cols]\n",
    "    return df\n",
    "\n",
    "# Préparer les inputs pour chaque modèle\n",
    "input_data0 = prepare_input(input_data, expected_cols0)\n",
    "\n",
    "# Prédictions\n",
    "predicted_price0 = model0.predict(input_data0)[0]\n",
    "\n",
    "# Affichage\n",
    "print(f\"✅ Prix estimé par Gradient Boosting : {predicted_price0:,.2f} MAD\")\n",
    "\n"
   ]
  }
 ],
 "metadata": {
  "kernelspec": {
   "display_name": "Python 3",
   "language": "python",
   "name": "python3"
  },
  "language_info": {
   "codemirror_mode": {
    "name": "ipython",
    "version": 3
   },
   "file_extension": ".py",
   "mimetype": "text/x-python",
   "name": "python",
   "nbconvert_exporter": "python",
   "pygments_lexer": "ipython3",
   "version": "3.13.3"
  }
 },
 "nbformat": 4,
 "nbformat_minor": 5
}
