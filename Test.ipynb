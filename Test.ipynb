{
 "cells": [
  {
   "cell_type": "code",
   "execution_count": 8,
   "id": "37d4f884",
   "metadata": {},
   "outputs": [
    {
     "name": "stdout",
     "output_type": "stream",
     "text": [
      "✅ Prix estimé Random Forest : 449,751.05 MAD\n",
      "✅ Prix estimé Regression linéaire: 56,601,070.59 MAD\n",
      "✅ Prix estimé Gradient Boosting: 545,071.11 MAD\n"
     ]
    }
   ],
   "source": [
    "import joblib\n",
    "import pandas as pd\n",
    "\n",
    "# Charger le modèle\n",
    "model0 = joblib.load('random_forest_model.pkl')\n",
    "model1 = joblib.load('Linear_regression_model.pkl')\n",
    "model2 = joblib.load('Gradient_boosting.pkl')\n",
    "\n",
    "# Récupérer les colonnes utilisées lors de l'entraînement\n",
    "expected_cols0 = list(model0.feature_names_in_)\n",
    "expected_cols1 = list(model1.feature_names_in_)\n",
    "expected_cols2 = list(model2.feature_names_in_)\n",
    "\n",
    "# Construire l'input utilisateur avec les colonnes disponibles\n",
    "input_data = pd.DataFrame([{\n",
    "    'nb_rooms': 3,\n",
    "    'surface_area': 60,\n",
    "    'Ascenseur': 1,\n",
    "    'Concierge': 0,\n",
    "    'Parking': 0,\n",
    "    'nb_total_pieces': 4,\n",
    "    'Chauffage': 0,\n",
    "    'Climatisation': 0,\n",
    "    'Terrasse': 0,\n",
    "    # ajoute d'autres si besoin...\n",
    "}])\n",
    "\n",
    "# Ajouter les colonnes manquantes avec 0\n",
    "for col in expected_cols0:\n",
    "    if col not in input_data.columns:\n",
    "        input_data[col] = 0\n",
    "for col in expected_cols1:\n",
    "    if col not in input_data.columns:\n",
    "        input_data[col] = 0\n",
    "for col in expected_cols2:\n",
    "    if col not in input_data.columns:\n",
    "        input_data[col] = 0\n",
    "\n",
    "# Réordonner les colonnes\n",
    "input_data0 = input_data[expected_cols0]\n",
    "input_data1 = input_data[expected_cols1]\n",
    "input_data2 = input_data[expected_cols2]\n",
    "\n",
    "# Prédiction\n",
    "predicted_price0 = model0.predict(input_data0)[0]\n",
    "predicted_price1 = model1.predict(input_data1)[0]\n",
    "predicted_price2 = model2.predict(input_data2)[0]\n",
    "print(f\"✅ Prix estimé Random Forest : {predicted_price0:,.2f} MAD\")\n",
    "print(f\"✅ Prix estimé Regression linéaire: {predicted_price1:,.2f} MAD\")\n",
    "print(f\"✅ Prix estimé Gradient Boosting: {predicted_price2:,.2f} MAD\")\n"
   ]
  }
 ],
 "metadata": {
  "kernelspec": {
   "display_name": "Python 3",
   "language": "python",
   "name": "python3"
  },
  "language_info": {
   "codemirror_mode": {
    "name": "ipython",
    "version": 3
   },
   "file_extension": ".py",
   "mimetype": "text/x-python",
   "name": "python",
   "nbconvert_exporter": "python",
   "pygments_lexer": "ipython3",
   "version": "3.13.3"
  }
 },
 "nbformat": 4,
 "nbformat_minor": 5
}
