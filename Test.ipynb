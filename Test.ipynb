{
 "cells": [
  {
   "cell_type": "code",
   "execution_count": null,
   "id": "37d4f884",
   "metadata": {},
   "outputs": [
    {
     "name": "stdout",
     "output_type": "stream",
     "text": [
      "✅ Prix estimé : 1,648,640.77 MAD\n"
     ]
    }
   ],
   "source": [
    "import joblib\n",
    "import pandas as pd\n",
    "\n",
    "# Charger le modèle\n",
    "model = joblib.load('Gradient_boosting.pkl')\n",
    "model = joblib.load('Linear_regression_model.pkl')\n",
    "model = joblib.load('Gradient_boosting.pkl')\n",
    "\n",
    "# Récupérer les colonnes utilisées lors de l'entraînement\n",
    "expected_cols = list(model.feature_names_in_)\n",
    "\n",
    "# Construire l'input utilisateur avec les colonnes disponibles\n",
    "input_data = pd.DataFrame([{\n",
    "    'nb_rooms': 6,\n",
    "    'surface_area': 250,\n",
    "    'Ascenseur': 1,\n",
    "    'Concierge': 0,\n",
    "    'Parking': 0,\n",
    "    'nb_total_pieces': 7,\n",
    "    'Chauffage': 0,\n",
    "    'Climatisation': 0,\n",
    "    'Terrasse': 0,\n",
    "    # ajoute d'autres si besoin...\n",
    "}])\n",
    "\n",
    "# Ajouter les colonnes manquantes avec 0\n",
    "for col in expected_cols:\n",
    "    if col not in input_data.columns:\n",
    "        input_data[col] = 0\n",
    "\n",
    "# Réordonner les colonnes\n",
    "input_data = input_data[expected_cols]\n",
    "\n",
    "# Prédiction\n",
    "predicted_price = model.predict(input_data)[0]\n",
    "print(f\"✅ Prix estimé : {predicted_price:,.2f} MAD\")\n"
   ]
  }
 ],
 "metadata": {
  "kernelspec": {
   "display_name": "Python 3",
   "language": "python",
   "name": "python3"
  },
  "language_info": {
   "codemirror_mode": {
    "name": "ipython",
    "version": 3
   },
   "file_extension": ".py",
   "mimetype": "text/x-python",
   "name": "python",
   "nbconvert_exporter": "python",
   "pygments_lexer": "ipython3",
   "version": "3.13.3"
  }
 },
 "nbformat": 4,
 "nbformat_minor": 5
}
